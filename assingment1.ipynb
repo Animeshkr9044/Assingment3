{
 "cells": [
  {
   "cell_type": "code",
   "execution_count": 22,
   "id": "6e404e9c-490b-4ec5-9c40-32ad0f427cd8",
   "metadata": {},
   "outputs": [
    {
     "name": "stdin",
     "output_type": "stream",
     "text": [
      "enter your marks 45\n"
     ]
    },
    {
     "name": "stdout",
     "output_type": "stream",
     "text": [
      "D Grade\n"
     ]
    }
   ],
   "source": [
    "#Q1-\n",
    "#ANS1\n",
    "x=int(input(\"enter your marks\"))\n",
    "\n",
    "if x <=100 :\n",
    "    if x>90 :\n",
    "        print(\"A Grade\")\n",
    "    elif x>80 and x<=90 :\n",
    "        print(\"B Garde\")\n",
    "    elif x>=60 and x<=80 :\n",
    "        print(\"C Grade\")\n",
    "    elif x<60 :\n",
    "        print(\"D Grade\")\n",
    "else : print(\"please enter a vadlid score\")     \n"
   ]
  },
  {
   "cell_type": "code",
   "execution_count": null,
   "id": "60e9156c-69e8-409f-9730-197ebe2cc92e",
   "metadata": {},
   "outputs": [],
   "source": []
  },
  {
   "cell_type": "code",
   "execution_count": null,
   "id": "53db6a00-d28e-4ced-868a-25b5f29669b2",
   "metadata": {},
   "outputs": [],
   "source": [
    "#Q2write a program to aaccept the cost price of bike and display the road tax according to the following criteria \n",
    "#ANS2\n",
    "y=int(input(\"enter your bike price\"))\n",
    "if y>1000000 :\n",
    "    print(\"your road tax\" )\n",
    "    print(y*0.15)\n",
    "elif y >50000 and y<=1000000:\n",
    "    print(\"your road tax\")\n",
    "    print(0.1*y)\n",
    "elif y<=50000 :\n",
    "    print(\"your road tax\")\n",
    "    print(0.05*y)\n",
    "                        "
   ]
  },
  {
   "cell_type": "code",
   "execution_count": 18,
   "id": "be5f33f2-b4e3-4cb6-9c2d-70509a00dbdc",
   "metadata": {},
   "outputs": [],
   "source": [
    "#Q3 - accept any city from the user and dispaly monuments of that city "
   ]
  },
  {
   "cell_type": "code",
   "execution_count": 20,
   "id": "c2fec349-b059-4377-9aa9-368a19743979",
   "metadata": {},
   "outputs": [
    {
     "name": "stdin",
     "output_type": "stream",
     "text": [
      "enter your destination  gs\n"
     ]
    },
    {
     "name": "stdout",
     "output_type": "stream",
     "text": [
      "please enter a valid city\n"
     ]
    }
   ],
   "source": [
    "user_input=input(\"enter your destination \")\n",
    "user_input.title\n",
    "if user_input==\"Delhi\":\n",
    "    print(\"Red Fort \")\n",
    "elif user_input==\"Agra\":\n",
    "    print(\"Taj mahal\")\n",
    "elif user_input==\"jaipur\":\n",
    "    print(\"Jal Mahal\")\n",
    "else:\n",
    "    print(\"please enter a valid city\")"
   ]
  },
  {
   "cell_type": "code",
   "execution_count": 1,
   "id": "caba39c2-e667-4f71-9ab5-55f33983e0dc",
   "metadata": {},
   "outputs": [],
   "source": [
    "#Q4check how many times a number can be diviede by 3 before it is less than or equal to 10"
   ]
  },
  {
   "cell_type": "code",
   "execution_count": 7,
   "id": "b9e27982-6ca1-4f6a-ab17-87bbe38866b8",
   "metadata": {},
   "outputs": [
    {
     "name": "stdin",
     "output_type": "stream",
     "text": [
      "Enter a number:  15\n"
     ]
    },
    {
     "name": "stdout",
     "output_type": "stream",
     "text": [
      "3The number can be divided by 3 1 times before it is less than or equal to 10.\n"
     ]
    }
   ],
   "source": [
    "#ans4\n",
    "number = int(input(\"Enter a number: \"))\n",
    "count = 0\n",
    "\n",
    "while number > 10:\n",
    "    number /= 3\n",
    "    count += 1\n",
    "\n",
    "print(\"3The number can be divided by 3\", count, \"times before it is less than or equal to 10.\")\n",
    "\n",
    "    "
   ]
  },
  {
   "cell_type": "code",
   "execution_count": 1,
   "id": "af6ee875-31d1-4420-aae7-6b5f8a036d8a",
   "metadata": {},
   "outputs": [],
   "source": [
    "#Q5why and when  to use while loop in python give a detailed descriptive answer "
   ]
  },
  {
   "cell_type": "code",
   "execution_count": 2,
   "id": "ef44f503-9597-4309-adf1-b6cd8381671c",
   "metadata": {},
   "outputs": [],
   "source": [
    "#ans5 - we use while loop when we dont know the end point till where our iterrator is  going to iterrate \n",
    "       # we use a condition to use use or iterate the fuction \n",
    "    #for examnple we use phone password to unlock our phone and we keep asking the user to give input till user input matches the set passsword."
   ]
  },
  {
   "cell_type": "code",
   "execution_count": 1,
   "id": "444d58ab-3e34-49ca-943a-3cacac0dab82",
   "metadata": {},
   "outputs": [
    {
     "name": "stdin",
     "output_type": "stream",
     "text": [
      "enter your password :  anime\n",
      "enter your password anirvnjn\n",
      "enter your password Animesh\n"
     ]
    },
    {
     "name": "stdout",
     "output_type": "stream",
     "text": [
      "unlock\n"
     ]
    }
   ],
   "source": [
    "#user set password \n",
    "password=\"Animesh\"\n",
    "#input from the user \n",
    "user_input=input(\"enter your password : \")\n",
    "#cheaking the input and set password \n",
    "while password!=user_input:\n",
    "    user_input=input(\"enter your password\")\n",
    "else :\n",
    "    print(\"unlock\")"
   ]
  },
  {
   "cell_type": "code",
   "execution_count": 8,
   "id": "4ed63854-63c0-454e-975d-26a8f2809712",
   "metadata": {},
   "outputs": [],
   "source": [
    "#Q7-reverse a while loop to dipaly number from 10 to 1"
   ]
  },
  {
   "cell_type": "code",
   "execution_count": 10,
   "id": "7a60ba52-7f2d-4e9d-896a-b3f2254e15e8",
   "metadata": {},
   "outputs": [
    {
     "name": "stdout",
     "output_type": "stream",
     "text": [
      "10\n",
      "9\n",
      "8\n",
      "7\n",
      "6\n",
      "5\n",
      "4\n",
      "3\n",
      "2\n",
      "1\n"
     ]
    }
   ],
   "source": [
    "#ans7-\n",
    "num = 10\n",
    "while num >= 1:\n",
    "    print(num)\n",
    "    num -= 1\n"
   ]
  },
  {
   "cell_type": "code",
   "execution_count": 11,
   "id": "7eeaba68-0a4c-49bc-9cf3-ee09c9375b08",
   "metadata": {},
   "outputs": [],
   "source": [
    "#Q8 -reverse a while loop to dipaly number from 10 to 1"
   ]
  },
  {
   "cell_type": "code",
   "execution_count": 12,
   "id": "45b603bd-123d-4020-9d98-985e60ed6705",
   "metadata": {},
   "outputs": [
    {
     "name": "stdout",
     "output_type": "stream",
     "text": [
      "1\n",
      "2\n",
      "3\n",
      "4\n",
      "5\n",
      "6\n",
      "7\n",
      "8\n",
      "9\n",
      "10\n"
     ]
    }
   ],
   "source": [
    "#ans8\n",
    "num = 1\n",
    "while num <=10:\n",
    "    print(num)\n",
    "    num +=1\n",
    "\n"
   ]
  },
  {
   "cell_type": "code",
   "execution_count": null,
   "id": "c2621b66-4efd-4b42-8af5-0589f7a31e1e",
   "metadata": {},
   "outputs": [],
   "source": []
  }
 ],
 "metadata": {
  "kernelspec": {
   "display_name": "Python 3 (ipykernel)",
   "language": "python",
   "name": "python3"
  },
  "language_info": {
   "codemirror_mode": {
    "name": "ipython",
    "version": 3
   },
   "file_extension": ".py",
   "mimetype": "text/x-python",
   "name": "python",
   "nbconvert_exporter": "python",
   "pygments_lexer": "ipython3",
   "version": "3.10.8"
  }
 },
 "nbformat": 4,
 "nbformat_minor": 5
}
